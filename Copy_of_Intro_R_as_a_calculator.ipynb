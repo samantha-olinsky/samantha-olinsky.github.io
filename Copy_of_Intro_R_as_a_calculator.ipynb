{
  "nbformat": 4,
  "nbformat_minor": 0,
  "metadata": {
    "colab": {
      "name": "Copy of Intro_R_as_a_calculator",
      "provenance": [],
      "collapsed_sections": [],
      "include_colab_link": true
    },
    "kernelspec": {
      "display_name": "Python 3",
      "name": "python3"
    }
  },
  "cells": [
    {
      "cell_type": "markdown",
      "metadata": {
        "id": "view-in-github",
        "colab_type": "text"
      },
      "source": [
        "<a href=\"https://colab.research.google.com/github/samantha-olinsky/samantha-olinsky.github.io/blob/master/Copy_of_Intro_R_as_a_calculator.ipynb\" target=\"_parent\"><img src=\"https://colab.research.google.com/assets/colab-badge.svg\" alt=\"Open In Colab\"/></a>"
      ]
    },
    {
      "cell_type": "code",
      "metadata": {
        "colab_type": "code",
        "id": "-gE-Ez1qtyIA",
        "colab": {}
      },
      "source": [
        "seconds_in_a_week = 7 * seconds_in_a_day\n",
        "seconds_in_a_week"
      ],
      "execution_count": null,
      "outputs": []
    },
    {
      "cell_type": "code",
      "metadata": {
        "id": "g9I-siem5QtI",
        "colab_type": "code",
        "colab": {}
      },
      "source": [
        ""
      ],
      "execution_count": null,
      "outputs": []
    },
    {
      "cell_type": "code",
      "metadata": {
        "colab_type": "code",
        "id": "gJr_9dXGpJ05",
        "colab": {}
      },
      "source": [
        "seconds_in_a_day = 24 * 60 * 60\n",
        "seconds_in_a_day"
      ],
      "execution_count": null,
      "outputs": []
    },
    {
      "cell_type": "code",
      "metadata": {
        "id": "4NcMOuSJ2-71",
        "colab_type": "code",
        "colab": {}
      },
      "source": [
        "3+4"
      ],
      "execution_count": null,
      "outputs": []
    },
    {
      "cell_type": "code",
      "metadata": {
        "id": "kHlr8reO3BYT",
        "colab_type": "code",
        "colab": {}
      },
      "source": [
        "3*4\n"
      ],
      "execution_count": null,
      "outputs": []
    },
    {
      "cell_type": "code",
      "metadata": {
        "id": "Aelk_q1D3HXa",
        "colab_type": "code",
        "colab": {}
      },
      "source": [
        "3-4"
      ],
      "execution_count": null,
      "outputs": []
    },
    {
      "cell_type": "code",
      "metadata": {
        "id": "TREvrRZA4a6g",
        "colab_type": "code",
        "colab": {}
      },
      "source": [
        "3 > 5\n"
      ],
      "execution_count": null,
      "outputs": []
    },
    {
      "cell_type": "code",
      "metadata": {
        "id": "-Ir4p6-x5SX9",
        "colab_type": "code",
        "colab": {}
      },
      "source": [
        "## commenting vs making a comment box like below"
      ],
      "execution_count": null,
      "outputs": []
    },
    {
      "cell_type": "markdown",
      "metadata": {
        "id": "xiYuOjrO0uHy",
        "colab_type": "text"
      },
      "source": [
        ""
      ]
    },
    {
      "cell_type": "code",
      "metadata": {
        "id": "ajUVUTjH5XV_",
        "colab_type": "code",
        "colab": {}
      },
      "source": [
        "## logarithms\n",
        "## sqrt\n",
        "## assignment arrow vs = sign\n",
        "## assigning something to a vector like we did above\n",
        "## Variables are objects in R that store values; vectors are essentially lists of variables.\n",
        "## Variables in R are initialized using the assignment operators = or <-, which are equivalent.\n",
        "## now let's go to vectors\n"
      ],
      "execution_count": null,
      "outputs": []
    }
  ]
}